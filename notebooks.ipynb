{
 "cells": [
  {
   "cell_type": "markdown",
   "metadata": {
    "toc": true
   },
   "source": [
    "<h1>Table of Contents<span class=\"tocSkip\"></span></h1>\n",
    "<div class=\"toc\"><ul class=\"toc-item\"><li><span><a href=\"#Notebooks-from-DAT158---Machine-learning-engineering,-2020\" data-toc-modified-id=\"Notebooks-from-DAT158---Machine-learning-engineering,-2020-1\"><span class=\"toc-item-num\">1&nbsp;&nbsp;</span>Notebooks from DAT158 - Machine learning engineering, 2020</a></span><ul class=\"toc-item\"><li><span><a href=\"#Module-1:-Introduction-to-machine-learning\" data-toc-modified-id=\"Module-1:-Introduction-to-machine-learning-1.1\"><span class=\"toc-item-num\">1.1&nbsp;&nbsp;</span>Module 1: Introduction to machine learning</a></span></li><li><span><a href=\"#Module-2:-Machine-learning-models\" data-toc-modified-id=\"Module-2:-Machine-learning-models-1.2\"><span class=\"toc-item-num\">1.2&nbsp;&nbsp;</span>Module 2: Machine learning models</a></span></li><li><span><a href=\"#Module-3:-Playing-the-whole-game\" data-toc-modified-id=\"Module-3:-Playing-the-whole-game-1.3\"><span class=\"toc-item-num\">1.3&nbsp;&nbsp;</span>Module 3: Playing the whole game</a></span></li></ul></li></ul></div>"
   ]
  },
  {
   "cell_type": "markdown",
   "metadata": {},
   "source": [
    "# Notebooks from DAT158 - Machine learning engineering, 2020"
   ]
  },
  {
   "cell_type": "markdown",
   "metadata": {},
   "source": [
    "Here's a list of all the notebooks available in the course [GitHub repository](https://github.com/alu042/DAT158ML). **The list will be updated throughout the semester!**\n",
    "\n",
    "See the [GitHub repository](https://github.com/alu042/DAT158ML) and our [Canvas](https://hvl.instructure.com/courses/14467) for more information."
   ]
  },
  {
   "cell_type": "markdown",
   "metadata": {},
   "source": [
    "## Module 1: Introduction to machine learning"
   ]
  },
  {
   "cell_type": "markdown",
   "metadata": {},
   "source": [
    "- [Extra - Introduction to machine learning](notebooks/DAT158-Part1-2-Extra-Intro_to_ML.ipynb). _This is extra material, walking through some of the key concepts in machine learning_.\n",
    "\n",
    "- [Some first examples of machine learning](notebooks/DAT158-Part1-1-simple_examples.ipynb)\n",
    "\n",
    "- [Classification](notebooks/DAT158-Part1-3-classification.ipynb)"
   ]
  },
  {
   "cell_type": "markdown",
   "metadata": {},
   "source": [
    "## Module 2: Machine learning models"
   ]
  },
  {
   "cell_type": "markdown",
   "metadata": {},
   "source": [
    "- [Linear regression and gradient descent](notebooks/DAT158-Part2-1-LinReg_GradientDescent.ipynb)\n",
    "\n",
    "- [Polynomial regression, learning curves and the bias-variance tradeoff](notebooks/DAT158-Part2-2-PolyReg_learning_curves_bias-variance.ipynb)\n",
    "\n",
    "- [Regularization](notebooks/DAT158-Part2-3-Regularization.ipynb)\n",
    "\n",
    "- [Decision trees](notebooks/DAT158-Part2-4-Decision_Trees.ipynb)"
   ]
  },
  {
   "cell_type": "markdown",
   "metadata": {},
   "source": [
    "## Module 3: Playing the whole game"
   ]
  },
  {
   "cell_type": "markdown",
   "metadata": {},
   "source": [
    "***TBA***"
   ]
  }
 ],
 "metadata": {
  "kernelspec": {
   "display_name": "DAT158",
   "language": "python",
   "name": "dat158"
  },
  "language_info": {
   "codemirror_mode": {
    "name": "ipython",
    "version": 3
   },
   "file_extension": ".py",
   "mimetype": "text/x-python",
   "name": "python",
   "nbconvert_exporter": "python",
   "pygments_lexer": "ipython3",
   "version": "3.8.5"
  },
  "toc": {
   "base_numbering": 1,
   "nav_menu": {},
   "number_sections": true,
   "sideBar": true,
   "skip_h1_title": false,
   "title_cell": "Table of Contents",
   "title_sidebar": "Contents",
   "toc_cell": true,
   "toc_position": {},
   "toc_section_display": true,
   "toc_window_display": false
  }
 },
 "nbformat": 4,
 "nbformat_minor": 4
}
